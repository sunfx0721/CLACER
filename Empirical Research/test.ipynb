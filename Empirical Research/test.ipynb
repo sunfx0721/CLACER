{
 "cells": [
  {
   "cell_type": "markdown",
   "source": [
    "导入依赖"
   ],
   "metadata": {
    "collapsed": false,
    "pycharm": {
     "name": "#%% md\n"
    }
   }
  },
  {
   "cell_type": "code",
   "execution_count": 54,
   "metadata": {
    "collapsed": true
   },
   "outputs": [],
   "source": [
    "import pandas as pd\n",
    "from util.helpers import my_txt_reader\n",
    "from util.DataProcessor import LabelRepository\n",
    "from scipy import stats"
   ]
  },
  {
   "cell_type": "markdown",
   "source": [
    "读取DeepFix变异生成的训练集数据，并统计个数"
   ],
   "metadata": {
    "collapsed": false,
    "pycharm": {
     "name": "#%% md\n"
    }
   }
  },
  {
   "cell_type": "code",
   "execution_count": 55,
   "outputs": [
    {
     "data": {
      "text/plain": "{0: 'IDNoDef',\n 1: 'BoundLost',\n 2: 'NotInclude',\n 3: 'BoundNotMatch',\n 4: 'BoundWrongUsage',\n 5: 'opDataLost',\n 6: 'BoundRedundant',\n 7: 'APIcallWrongUsage',\n 8: 'KeyWordWrongUsage',\n 9: 'opWrongUsage',\n 10: 'TypeWrongUsage',\n 11: 'IDWrongUsage',\n 12: 'opLost'}"
     },
     "execution_count": 55,
     "metadata": {},
     "output_type": "execute_result"
    }
   ],
   "source": [
    "# 准备标签字典\n",
    "labels = LabelRepository()\n",
    "labels.map_get()\n",
    "labels.label_map_reverse"
   ],
   "metadata": {
    "collapsed": false,
    "pycharm": {
     "name": "#%%\n"
    }
   }
  },
  {
   "cell_type": "code",
   "execution_count": 56,
   "outputs": [],
   "source": [
    "# 读取数据\n",
    "mutate_classified = r'data/deepfix_classify_result.txt'\n",
    "mutate_class_dict_mutate = my_txt_reader(mutate_classified)"
   ],
   "metadata": {
    "collapsed": false,
    "pycharm": {
     "name": "#%%\n"
    }
   }
  },
  {
   "cell_type": "code",
   "execution_count": 57,
   "outputs": [],
   "source": [
    "mutate_classified = r'data/deepfix_classify_result_ids.txt'\n",
    "mutate_class_dict_ids = my_txt_reader(mutate_classified)"
   ],
   "metadata": {
    "collapsed": false,
    "pycharm": {
     "name": "#%%\n"
    }
   }
  },
  {
   "cell_type": "code",
   "execution_count": 58,
   "outputs": [
    {
     "name": "stdout",
     "output_type": "stream",
     "text": [
      "283790\n",
      "216321\n"
     ]
    }
   ],
   "source": [
    "print(len(mutate_class_dict_mutate))\n",
    "print(len(mutate_class_dict_ids))"
   ],
   "metadata": {
    "collapsed": false,
    "pycharm": {
     "name": "#%%\n"
    }
   }
  },
  {
   "cell_type": "code",
   "execution_count": 59,
   "outputs": [],
   "source": [
    "time_all = len(mutate_class_dict_mutate) + len(mutate_class_dict_ids)\n",
    "mutate_class_dict = {}\n",
    "\n",
    "time_counter = 0\n",
    "for class_value in mutate_class_dict_mutate.values():\n",
    "    mutate_class_dict[time_counter] = class_value\n",
    "    time_counter += 1\n",
    "for class_value in mutate_class_dict_ids.values():\n",
    "    mutate_class_dict[time_counter] = class_value\n",
    "    time_counter += 1"
   ],
   "metadata": {
    "collapsed": false,
    "pycharm": {
     "name": "#%%\n"
    }
   }
  },
  {
   "cell_type": "code",
   "execution_count": 60,
   "outputs": [
    {
     "data": {
      "text/plain": "500111"
     },
     "execution_count": 60,
     "metadata": {},
     "output_type": "execute_result"
    }
   ],
   "source": [
    "len(mutate_class_dict)"
   ],
   "metadata": {
    "collapsed": false,
    "pycharm": {
     "name": "#%%\n"
    }
   }
  },
  {
   "cell_type": "code",
   "execution_count": 61,
   "outputs": [],
   "source": [
    "mutate_dict = {}\n",
    "for error_class_id in list(set(mutate_class_dict.values())):\n",
    "    mutate_dict[int(error_class_id)] = 0\n",
    "\n",
    "for code_id, error_class_id in mutate_class_dict.items():\n",
    "    mutate_dict[int(error_class_id)] += 1\n",
    "\n",
    "del mutate_dict[-1]"
   ],
   "metadata": {
    "collapsed": false,
    "pycharm": {
     "name": "#%%\n"
    }
   }
  },
  {
   "cell_type": "markdown",
   "source": [
    "获取带有修复结果的数据，并统计个数"
   ],
   "metadata": {
    "collapsed": false,
    "pycharm": {
     "name": "#%% md\n"
    }
   }
  },
  {
   "cell_type": "code",
   "execution_count": 62,
   "outputs": [],
   "source": [
    "result_deepfixS = pd.read_excel(r\"data/ALL_fix_state.xlsx\", sheet_name=\"deepfixS_fix_state\")\n",
    "result_grouped_deepfixS = result_deepfixS.groupby(\"error_class_id\")\n",
    "result_grouped_deepfixS.count()\n",
    "\n",
    "result_dict = {}\n",
    "for error_class_id, result_df in result_grouped_deepfixS:\n",
    "    result_dict[error_class_id] = result_df.shape[0]"
   ],
   "metadata": {
    "collapsed": false,
    "pycharm": {
     "name": "#%%\n"
    }
   }
  },
  {
   "cell_type": "code",
   "execution_count": 63,
   "outputs": [
    {
     "name": "stdout",
     "output_type": "stream",
     "text": [
      "KstestResult(statistic=0.2784558893217802, pvalue=7.783684837493369e-199)\n"
     ]
    }
   ],
   "source": [
    "#用kolmogorov-Smirnov检验deepfix和iitk是否同分布\n",
    "mutate_class = list(mutate_class_dict.values())\n",
    "result_deepfixS = pd.read_excel(r\"data/ALL_fix_state.xlsx\", sheet_name=\"deepfixS_fix_state\")\n",
    "\n",
    "print(stats.kstest(result_deepfixS[\"error_class_id\"], mutate_class))"
   ],
   "metadata": {
    "collapsed": false,
    "pycharm": {
     "name": "#%%\n"
    }
   }
  },
  {
   "cell_type": "code",
   "execution_count": 64,
   "outputs": [
    {
     "name": "stdout",
     "output_type": "stream",
     "text": [
      "Power_divergenceResult(statistic=1800998.1739312282, pvalue=0.0)\n",
      "Power_divergenceResult(statistic=0.20202020202020202, pvalue=0.9952293469715736)\n"
     ]
    }
   ],
   "source": [
    "# 卡方优度拟合检验\n",
    "statistic_df = pd.DataFrame({\"true\":result_dict,\"mutate\":mutate_dict})\n",
    "\n",
    "statistic_df[\"true_pro\"] = statistic_df[\"true\"]/statistic_df[\"true\"].sum()\n",
    "statistic_df[\"mutate_pro\"] = statistic_df[\"mutate\"]/statistic_df[\"mutate\"].sum()\n",
    "\n",
    "n_sample = statistic_df[\"mutate\"].sum()\n",
    "\n",
    "statistic_df[\"true_resample\"] = n_sample * statistic_df[\"true_pro\"]\n",
    "statistic_df[\"mutate_resample\"] = statistic_df[\"mutate\"]\n",
    "# statistic_df[\"mutate_resample\"] = n_sample * statistic_df[\"mutate_pro\"]\n",
    "\n",
    "# statistic_df[\"true_resample\"] = statistic_df[\"true_resample\"].astype('int64')\n",
    "# statistic_df[\"mutate_resample\"] = statistic_df[\"mutate_resample\"].astype('int64')\n",
    "print(stats.chisquare(\n",
    "        f_obs=statistic_df[\"mutate_resample\"],\n",
    "        f_exp=statistic_df[\"true_resample\"]\n",
    "    )\n",
    ")\n",
    "\n",
    "print(stats.chisquare(\n",
    "        f_obs=[10,10,10,10,10],\n",
    "        f_exp=[10,10,10,11,9]\n",
    "    )\n",
    ")"
   ],
   "metadata": {
    "collapsed": false,
    "pycharm": {
     "name": "#%%\n"
    }
   }
  },
  {
   "cell_type": "code",
   "execution_count": 65,
   "outputs": [
    {
     "name": "stdout",
     "output_type": "stream",
     "text": [
      "2910\n",
      "457762\n"
     ]
    }
   ],
   "source": [
    "print(statistic_df[\"true\"].sum())\n",
    "print(statistic_df[\"mutate\"].sum())"
   ],
   "metadata": {
    "collapsed": false,
    "pycharm": {
     "name": "#%%\n"
    }
   }
  },
  {
   "cell_type": "markdown",
   "source": [
    "比较deepfixS和iitk的分布差异"
   ],
   "metadata": {
    "collapsed": false,
    "pycharm": {
     "name": "#%% md\n"
    }
   }
  },
  {
   "cell_type": "code",
   "execution_count": 66,
   "outputs": [],
   "source": [
    "result_deepfixS = pd.read_excel(r\"data/ALL_fix_state.xlsx\", sheet_name=\"deepfixS_fix_state\")\n",
    "result_iitk = pd.read_excel(r\"data/ALL_fix_state.xlsx\", sheet_name=\"ittk_fix_state\")\n",
    "\n",
    "def result_dict_get(result_df):\n",
    "    result_df_grouped = result_df.groupby(\"error_class_id\")\n",
    "    result_df_grouped.count()\n",
    "\n",
    "    result_dict = {}\n",
    "    for error_class_id, result_df_id in result_df_grouped:\n",
    "        result_dict[error_class_id] = result_df_id.shape[0]\n",
    "\n",
    "    return result_dict\n",
    "\n",
    "result_deepfixS_dict = result_dict_get(result_deepfixS)\n",
    "result_iitk_dict = result_dict_get(result_iitk)"
   ],
   "metadata": {
    "collapsed": false,
    "pycharm": {
     "name": "#%%\n"
    }
   }
  },
  {
   "cell_type": "code",
   "execution_count": 67,
   "outputs": [
    {
     "name": "stdout",
     "output_type": "stream",
     "text": [
      "Power_divergenceResult(statistic=4448.039518371882, pvalue=0.0)\n",
      "Power_divergenceResult(statistic=0.20202020202020202, pvalue=0.9952293469715736)\n"
     ]
    }
   ],
   "source": [
    "# 卡方优度拟合检验\n",
    "statistic_df = pd.DataFrame({\"deepfixS\":result_deepfixS_dict,\"iitk\":result_iitk_dict})\n",
    "\n",
    "statistic_df[\"deepfixS_pro\"] = statistic_df[\"deepfixS\"]/statistic_df[\"deepfixS\"].sum()\n",
    "statistic_df[\"iitk_pro\"] = statistic_df[\"iitk\"]/statistic_df[\"iitk\"].sum()\n",
    "\n",
    "n_sample = statistic_df[\"iitk\"].sum()\n",
    "# n_sample = 100000\n",
    "\n",
    "statistic_df[\"deepfixS_resample\"] = n_sample * statistic_df[\"deepfixS_pro\"]\n",
    "# statistic_df[\"iitk_resample\"] = statistic_df[\"iitk\"]\n",
    "statistic_df[\"iitk_resample\"] = n_sample * statistic_df[\"iitk_pro\"]\n",
    "\n",
    "# statistic_df[\"deepfixS_resample\"] = statistic_df[\"true_resample\"].astype('int64')\n",
    "# statistic_df[\"iitk_resample\"] = statistic_df[\"mutate_resample\"].astype('int64')\n",
    "print(stats.chisquare(\n",
    "        f_obs=statistic_df[\"iitk_resample\"],\n",
    "        f_exp=statistic_df[\"deepfixS_resample\"]\n",
    "    )\n",
    ")\n",
    "\n",
    "print(stats.chisquare(\n",
    "        f_obs=[10,10,10,10,10],\n",
    "        f_exp=[10,10,10,11,9]\n",
    "    )\n",
    ")"
   ],
   "metadata": {
    "collapsed": false,
    "pycharm": {
     "name": "#%%\n"
    }
   }
  },
  {
   "cell_type": "code",
   "execution_count": 68,
   "outputs": [
    {
     "data": {
      "text/plain": "14015"
     },
     "execution_count": 68,
     "metadata": {},
     "output_type": "execute_result"
    }
   ],
   "source": [
    "statistic_df[\"deepfixS\"].sum()\n",
    "statistic_df[\"iitk\"].sum()"
   ],
   "metadata": {
    "collapsed": false,
    "pycharm": {
     "name": "#%%\n"
    }
   }
  },
  {
   "cell_type": "code",
   "execution_count": 68,
   "outputs": [],
   "source": [],
   "metadata": {
    "collapsed": false,
    "pycharm": {
     "name": "#%%\n"
    }
   }
  }
 ],
 "metadata": {
  "kernelspec": {
   "display_name": "Python 3",
   "language": "python",
   "name": "python3"
  },
  "language_info": {
   "codemirror_mode": {
    "name": "ipython",
    "version": 2
   },
   "file_extension": ".py",
   "mimetype": "text/x-python",
   "name": "python",
   "nbconvert_exporter": "python",
   "pygments_lexer": "ipython2",
   "version": "2.7.6"
  }
 },
 "nbformat": 4,
 "nbformat_minor": 0
}